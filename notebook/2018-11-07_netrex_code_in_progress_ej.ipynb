{
 "cells": [
  {
   "cell_type": "markdown",
   "metadata": {},
   "source": [
    "# Netrex+ code debugging and performance testing"
   ]
  },
  {
   "cell_type": "code",
   "execution_count": 1,
   "metadata": {},
   "outputs": [],
   "source": [
    "#shapes: \n",
    "#m = self.NumGene\n",
    "#l = self.NumExp\n",
    "#n = self.NumTF\n",
    "\n",
    "#E=m x l\n",
    "#S=Cij=lambda_ij=eta_ij=m x n\n",
    "#A=n x l\n",
    "#alpha, theta = number\n",
    "#xi = yj < m,n ...maybe 20,30? "
   ]
  },
  {
   "cell_type": "code",
   "execution_count": 2,
   "metadata": {},
   "outputs": [
    {
     "name": "stderr",
     "output_type": "stream",
     "text": [
      "/Users/bergeric/miniconda3/envs/netrex/lib/python3.6/importlib/_bootstrap.py:219: RuntimeWarning: numpy.dtype size changed, may indicate binary incompatibility. Expected 96, got 88\n",
      "  return f(*args, **kwds)\n",
      "/Users/bergeric/miniconda3/envs/netrex/lib/python3.6/importlib/_bootstrap.py:219: RuntimeWarning: numpy.dtype size changed, may indicate binary incompatibility. Expected 96, got 88\n",
      "  return f(*args, **kwds)\n",
      "/Users/bergeric/miniconda3/envs/netrex/lib/python3.6/importlib/_bootstrap.py:219: RuntimeWarning: numpy.dtype size changed, may indicate binary incompatibility. Expected 96, got 88\n",
      "  return f(*args, **kwds)\n",
      "/Users/bergeric/miniconda3/envs/netrex/lib/python3.6/importlib/_bootstrap.py:219: RuntimeWarning: numpy.dtype size changed, may indicate binary incompatibility. Expected 96, got 88\n",
      "  return f(*args, **kwds)\n",
      "/Users/bergeric/miniconda3/envs/netrex/lib/python3.6/importlib/_bootstrap.py:219: RuntimeWarning: numpy.dtype size changed, may indicate binary incompatibility. Expected 96, got 88\n",
      "  return f(*args, **kwds)\n",
      "/Users/bergeric/miniconda3/envs/netrex/lib/python3.6/importlib/_bootstrap.py:219: RuntimeWarning: numpy.dtype size changed, may indicate binary incompatibility. Expected 96, got 88\n",
      "  return f(*args, **kwds)\n"
     ]
    }
   ],
   "source": [
    "#needed for package\n",
    "\n",
    "import numpy as np\n",
    "import pandas as pd\n",
    "import sys\n",
    "from implicit import als\n",
    "import math\n",
    "import cvxopt\n",
    "from scipy.linalg import fractional_matrix_power, block_diag\n",
    "from pylab import *\n",
    "from cvxpy import *\n",
    "import argparse\n",
    "from scipy.sparse import csr_matrix\n",
    "import copy\n",
    "\n",
    "#testing\n",
    "from sklearn.metrics import confusion_matrix, precision_score, recall_score"
   ]
  },
  {
   "cell_type": "code",
   "execution_count": 11,
   "metadata": {},
   "outputs": [
    {
     "name": "stdout",
     "output_type": "stream",
     "text": [
      "Ready\n"
     ]
    }
   ],
   "source": [
    "class NetREX: \n",
    "    #init\n",
    "    def __init__(self, E, C, lambda_, theta=1, alpha=10, iternum = 1000, p = 30, solver = CVXOPT):\n",
    "        #parameters\n",
    "        self.theta = theta # scalar > 0\n",
    "        self.alpha = alpha\n",
    "        self.xbound = 1.0\n",
    "        self.ybound = 1.0\n",
    "        self.iternum = iternum\n",
    "        self.lambda_ = lambda_ #parameter matrix\n",
    "        #read in exp, read prior data \n",
    "        #self.ReadExp(ExpFile) #get ExpMat from this\n",
    "        self.ExpMat = E #expression for now\n",
    "        self.C = C #matrix of confidences (weights)\n",
    "        self.NumGene = E.shape[0]\n",
    "        self.NumTF = C.shape[1]\n",
    "        self.NumExp = E.shape[1]\n",
    "        #parameter matrix eta\n",
    "        self.eta = self.C + theta\n",
    "        self.i_ = range(self.NumGene) #range of i\n",
    "        self.j_ = range(self.NumTF) #range of j \n",
    "        #controls amount of factors in xi/yj\n",
    "        self.p = p\n",
    "        #set solver\n",
    "        self.solver = solver\n",
    "        \n",
    "    #Put read in exp here later\n",
    "    \n",
    "    #initialization\n",
    "    def initialization(self):\n",
    "        #!!! other parameters!!!\n",
    "        #Use implicit package for CF problems to initialize X & Y: \n",
    "        implicit_model = als.AlternatingLeastSquares(factors=self.p)\n",
    "        #take cutoff of C and add to get new weight matrix\n",
    "        C_cutoff = np.where(self.C > 0.1, (1 + 5*self.C), 0)\n",
    "        #train model on weight matrix\n",
    "        implicit_model.fit(csr_matrix(C_cutoff))\n",
    "        #initial X (matrix of xi vectors)\n",
    "        self.X = implicit_model.item_factors.T\n",
    "        for i in self.i_:\n",
    "            TmpNorm = np.linalg.norm(self.X[:,i])\n",
    "            self.X[:,i] = self.X[:,i] / TmpNorm\n",
    "        np.nan_to_num(self.X, copy=False)\n",
    "        #initial Y (matrix of yj vectors)\n",
    "        self.Y = implicit_model.user_factors.T\n",
    "        for j in self.j_:\n",
    "            TmpNorm = np.linalg.norm(self.Y[:,j])\n",
    "            self.Y[:,j] = self.Y[:,j] / TmpNorm\n",
    "        np.nan_to_num(self.Y, copy=False)\n",
    "        \n",
    "        #set initial S to C\n",
    "        #self.S = copy.deepcopy(self.C)\n",
    "        #binarize S to use for finding A \n",
    "        #S_init = (self.S > 0).astype(int)\n",
    "        #initialize A using NetREX 1 closed form\n",
    "        #!!!!!Other options!!!!!\n",
    "        #Abound = 1.0\n",
    "        #self.A = np.linalg.inv(S_init.T.dot(S_init)+np.eye(self.NumTF)).dot(S_init.T).dot(self.ExpMat)\n",
    "        #self.A = np.multiply((np.absolute(Atmp)<=Abound), Atmp) + \\\n",
    "                                       # np.multiply((np.absolute(Atmp)>Abound), np.sign(Atmp)*Abound)\n",
    "        \n",
    "        #try using NCA to get initial A\n",
    "        self.A = self.NCA_()\n",
    "        \n",
    "        #initial Uk\n",
    "        mu_S = np.linalg.norm(self.A.dot(self.A.T), 'fro')\n",
    "        Uk = self.S - (2./mu_S)*(self.S.dot(self.A).dot(self.A.T) - self.ExpMat.dot(self.A.T))\n",
    "        #initial S \n",
    "        c = np.sqrt((2./mu_S)*(self.alpha*self.lambda_*np.square(np.ones([self.NumGene,self.NumTF]) -\n",
    "                                                          self.X.T.dot(self.Y)) + self.eta))  \n",
    "        Sequal = np.where(np.absolute(Uk) == c, c*np.random.randint(2, size=(self.NumGene,self.NumTF)), 0)\n",
    "        Sgreater = np.where(np.absolute(Uk) > c, Uk, 0)\n",
    "        self.S = Sequal + Sgreater\n",
    "        \n",
    "        plt.figure(1, figsize=(8, 3))\n",
    "        ax1 = plt.subplot(211)\n",
    "        ax1.imshow(self.S)\n",
    "        ax2 = plt.subplot(212)\n",
    "        ax2.imshow(self.X.T.dot(self.Y))\n",
    "        plt.show() \n",
    "    \n",
    "    #try to program iterative NCA\n",
    "    def NCA_(self):\n",
    "        #set initial S to C\n",
    "        self.S = copy.deepcopy(self.C)\n",
    "        #binarize S to use for finding A \n",
    "        S_init = (self.S > 0).astype(int).astype(float)\n",
    "        for k in range(50):\n",
    "            A_init = np.linalg.inv(S_init.T.dot(S_init)+ 0.1*np.eye(self.NumTF)).dot(S_init.T).dot(self.ExpMat)\n",
    "            # update S\n",
    "            for i in range(self.NumGene):\n",
    "                Indn0 = np.where(self.S[i,:]!=0)[0]\n",
    "                Et = self.ExpMat[i,:]\n",
    "                At = A_init[Indn0,:]\n",
    "                St = Et.dot(At.T).dot(np.linalg.inv(At.dot(At.T)+0.1*np.eye(At.shape[0])))\n",
    "                S_init[i,Indn0] = St \n",
    "            \n",
    "        return A_init\n",
    "        \n",
    "    #Define the objective function \n",
    "    def ObjFunction(self):\n",
    "        S_0 = (self.S != 0).astype(int) \n",
    "        self.a_ = self.lambda_*(self.C + self.alpha*S_0)\n",
    "        W = np.sqrt(self.a_) \n",
    "        Val = np.linalg.norm(self.ExpMat - self.S.dot(self.A), 'fro')**2 +np.linalg.norm(W*(S_0 - self.X.T.dot(self.Y)),\n",
    "                    'fro')**2 + np.linalg.norm(np.sqrt(self.eta*S_0), 'fro')**2\n",
    "        return Val\n",
    "    \n",
    "    def PALM_A(self):\n",
    "        mu_A = np.linalg.norm(self.S.T.dot(self.S), 'fro')\n",
    "        #solution for A\n",
    "        self.A = (np.linalg.inv((2./mu_A)*self.S.T.dot(self.S)+ np.identity(self.NumTF))).dot(((2./mu_A) * \n",
    "                                                                self.ExpMat.T.dot(self.S) + self.A.T).T) \n",
    "        \n",
    "    def PALM_S(self):\n",
    "        mu_S = np.linalg.norm(self.A.dot(self.A.T), 'fro')\n",
    "        Uk = self.S - (2./mu_S)*(self.S.dot(self.A).dot(self.A.T) - self.ExpMat.dot(self.A.T))\n",
    "        c = np.sqrt((2./mu_S)*(self.alpha*self.lambda_*np.square(np.ones([self.NumGene,self.NumTF]) -\n",
    "                                                          self.X.T.dot(self.Y)) + self.eta))\n",
    "        '''\n",
    "        plt.figure(1, figsize=(8, 3))\n",
    "        ax1 = plt.subplot(211)\n",
    "        ax1.imshow(c)\n",
    "        ax2 = plt.subplot(212)\n",
    "        ax2.imshow(Uk)\n",
    "        plt.show() \n",
    "        \n",
    "        print(c[30:, 0:20])\n",
    "        print(Uk[30:, 0:20])\n",
    "        '''\n",
    "        \n",
    "        #solution for S   \n",
    "        Sequal = np.where(np.absolute(Uk) == c, c*np.random.randint(2, size=(self.NumGene,self.NumTF)), 0)\n",
    "        Sgreater = np.where(np.absolute(Uk) > c, Uk, 0)\n",
    "        self.S = Sequal + Sgreater\n",
    "        #print(self.S)\n",
    "        self.S_0 = (self.S != 0).astype(int)\n",
    "    \n",
    "    def solve_qcqp(self, phi, varphi): \n",
    "        '''\n",
    "        Use cvxpy to solve the problem: \n",
    "        min x^T*phi*x + varphi*x\n",
    "        s.t. to norm(x) <= 1\n",
    "        (problem is the same for y)\n",
    "        '''\n",
    "        x = Variable(self.p)\n",
    "        P = phi.astype(np.double) #this is phi modified for cvxpy\n",
    "        q = varphi.astype(np.double) #varphi modified for cvxpy\n",
    "        \n",
    "        #print(P, q)\n",
    "        objective = Minimize(quad_form(x,P) - q.T*x)\n",
    "        constraints = [square(norm(x)) <= 1]\n",
    "        \n",
    "        prob = Problem(objective, constraints)\n",
    "        \n",
    "        try:\n",
    "            result = prob.solve(solver=self.solver)\n",
    "            return x.value\n",
    "        except:\n",
    "            prob.solve(verbose=True)\n",
    "            \n",
    "            \n",
    "           \n",
    "    def PALM_x(self):\n",
    "        #define variables for matrix formulation\n",
    "        for i in self.i_: \n",
    "            x = self.X[:,i]\n",
    "            S_0 = (self.S != 0).astype(int)\n",
    "            a_ = self.lambda_*(self.C + self.alpha*S_0)\n",
    "            A_i = np.diag([a_[i,j] for j in self.j_])\n",
    "            S_i = np.array([S_0[i,j] for j in self.j_]) \n",
    "            mu_x = np.linalg.norm(2*self.Y.dot(A_i).dot(self.Y.T), 'fro')                            \n",
    "            phi = (mu_x/2)*np.identity(self.p) + self.Y.dot(A_i).dot(self.Y.T)\n",
    "            varphi = 2*S_i.dot(A_i).dot(self.Y.T) + mu_x*x.T \n",
    "            self.X[:,i] = self.solve_qcqp(phi, varphi)\n",
    "        \n",
    "    def PALM_y(self):\n",
    "        #matrix formulation\n",
    "        for j in self.j_:\n",
    "            y = self.Y[:,j]\n",
    "            S_0 = (self.S != 0).astype(int)\n",
    "            a_ = self.lambda_*(self.C + self.alpha*S_0)\n",
    "            A_j = np.diag([a_[i,j] for i in self.i_])\n",
    "            S_j = np.array([S_0[i,j] for i in self.i_])\n",
    "            mu_y = np.linalg.norm(2*self.X.dot(A_j).dot(self.X.T), 'fro')\n",
    "            phi = (mu_y/2)*np.identity(self.p) + self.X.dot(A_j).dot(self.X.T)\n",
    "            varphi = 2*S_j.T.dot(A_j).dot(self.X.T) + mu_y*y.T\n",
    "            self.Y[:,j] = self.solve_qcqp(phi, varphi)\n",
    "            \n",
    "    #algorithm\n",
    "    def NetREX_algorithm(self):\n",
    "        self.initialization()\n",
    "        conv_point = 0.1 #for now?  \n",
    "\n",
    "        Valold = self.ObjFunction()\n",
    "        for k in range(self.iternum): \n",
    "            self.PALM_A()\n",
    "            self.PALM_S()\n",
    "            self.PALM_x()\n",
    "            self.PALM_y()\n",
    "            \n",
    "            plt.figure(1, figsize=(8, 3))\n",
    "            ax1 = plt.subplot(211)\n",
    "            ax1.imshow(self.S)\n",
    "            ax2 = plt.subplot(212)\n",
    "            ax2.imshow(self.X.T.dot(self.Y))\n",
    "            plt.show() \n",
    "        \n",
    "            Valnew = self.ObjFunction()\n",
    "            print(\"Itr %d, Obj %f\" % (k, Valnew))\n",
    "            check_pt = np.abs(Valold-Valnew)\n",
    "            if (check_pt < conv_point) :\n",
    "                print(\"Converge!\")\n",
    "                sys.stdout.flush()\n",
    "                break\n",
    "            Valold = Valnew\n",
    "        return Valold\n",
    "        \n",
    "def main():\n",
    "        #parser = argparse.ArgumentParser(description='netREX: network rewiring using expression')\n",
    "        #define arguments\n",
    "        #requiredArgs = parser.add_argument_group('required arguments')\n",
    "        #requiredArgs.add_argument('-e', type=str, nargs=1, dest='expfile', required=True, metavar=\"expression_file\",\n",
    "        #                     default=None, help=\"<Required> Name of the expression file\")\n",
    "        #requiredArgs.add_argument('-c', type=str, nargs=1, dest='confidences', required=True, \n",
    "        #                metavar=\"confidence_matrix\", default=None, help='<Required> File w matrix of confidences')\n",
    "        #parser.add_argument()\n",
    "    \n",
    "        #parse arguments from std input\n",
    "        #args=parser.parse_args()\n",
    "    \n",
    "        #if len(sys.argv)==1:\n",
    "        #    parser.print_help(sys.stderr)\n",
    "        #    sys.exit(1)\n",
    "    \n",
    "        #if args.expfile == None:\n",
    "        #    sys.exit('missing expression data file!')\n",
    "        \n",
    "        #if args.confidences == None:\n",
    "        #    sys.exit('missing confidence file!')\n",
    "    \n",
    "        #run netrex\n",
    "        #tmp = NetREX(E_real, C_test, lmda_real)\n",
    "        #tmp.NetREX_algorithm()\n",
    "        print(\"Ready\")\n",
    "\n",
    "if __name__ == '__main__':\n",
    "    main()\n",
    "    \n",
    "    \n",
    "    "
   ]
  },
  {
   "cell_type": "markdown",
   "metadata": {},
   "source": [
    "#### Build the simulated dataset for testing. \n",
    "This is just to test that the code works. We will use yeast data to test how well the model performs later. \n",
    "\n",
    "Simulated dataset should contain: \n",
    "- The correct C matrix, as well as the C provided to the model. C needs to have a specific structure, where blocks of varying sizes make up the diagonal. The testing C should have 10% of the values from each nonzero block dropped and replaced by 0s.\n",
    "- The correct S matrix (1s that correspond to the nonzero elements in C, hence same block structure as C)\n",
    "- The correct A matrix (made up of random values)\n",
    "- The correct E matrix (S x A)\n",
    "- Values for all of the parameters (lambda_, theta, alpha)"
   ]
  },
  {
   "cell_type": "code",
   "execution_count": 4,
   "metadata": {},
   "outputs": [
    {
     "name": "stdout",
     "output_type": "stream",
     "text": [
      "(31, 40) (31, 16)\n"
     ]
    }
   ],
   "source": [
    "#build S with blocks on diagonal\n",
    "\n",
    "#make 10 blocks of diff sized matrices of 1s\n",
    "bl1 = np.random.rand(3,2)\n",
    "bl2 = np.random.rand(3,1)\n",
    "bl3 = np.random.rand(5,2)\n",
    "bl4 = np.random.rand(2,2)\n",
    "bl5 = np.random.rand(3,1)\n",
    "bl6 = np.random.rand(4,2)\n",
    "bl7 = np.random.rand(5,2)\n",
    "bl8 = np.random.rand(2,2)\n",
    "bl9 = np.random.rand(2,1)\n",
    "bl10 = np.random.rand(2,1)\n",
    "\n",
    "S_real = block_diag(bl1, bl2, bl3, bl4, bl5, bl6 , bl7, bl8, bl9, bl10)\n",
    "S_real_binary = (S_real>0).astype(int)\n",
    "m = S_real.shape[0] #number genes\n",
    "n = S_real.shape[1] #number tfs\n",
    "\n",
    "l = 40 #number exp samples\n",
    "\n",
    "#build A dim n x l (tf x expsamples)\n",
    "A_real = np.random.rand(n, l)\n",
    "\n",
    "#build E dim m x l\n",
    "E_real = S_real_binary.dot(A_real)\n",
    "print(E_real.shape, S_real.shape)"
   ]
  },
  {
   "cell_type": "code",
   "execution_count": 5,
   "metadata": {},
   "outputs": [],
   "source": [
    "#build weight matrix C dim m x n from S\n",
    "C_real = copy.deepcopy(S_real)"
   ]
  },
  {
   "cell_type": "code",
   "execution_count": null,
   "metadata": {},
   "outputs": [],
   "source": []
  },
  {
   "cell_type": "code",
   "execution_count": 6,
   "metadata": {},
   "outputs": [],
   "source": [
    "#build test C \n",
    "#make 10% from each of the blocks 0.  \n",
    "blocks = [bl1, bl2, bl3, bl4, bl5, bl6 , bl7, bl8, bl9, bl10]\n",
    "\n",
    "for block in blocks: \n",
    "    pct = round(block.size * .05)\n",
    "    for i in range(pct):\n",
    "        block[np.random.randint(block.shape[0])][np.random.randint(block.shape[1])] = np.random.rand()\n",
    "    #np.random.permutation(block)\n",
    "    \n",
    "dropped_ten_pct = block_diag(bl1, bl2, bl3, bl4, bl5, bl6 , bl7, bl8, bl9, bl10)\n",
    "\n",
    "#build C with 10% of vals in each block dropped\n",
    "C_test = dropped_ten_pct * C_real"
   ]
  },
  {
   "cell_type": "code",
   "execution_count": 7,
   "metadata": {},
   "outputs": [],
   "source": [
    "#build parameter matrix lambda_ dim m x n \n",
    "lmda_real = np.ones((m, n))\n",
    "\n",
    "#set theta and alpha to 1"
   ]
  },
  {
   "cell_type": "code",
   "execution_count": 8,
   "metadata": {},
   "outputs": [
    {
     "data": {
      "image/png": "[encoded data removed]",
      "text/plain": [
       "<Figure size 576x360 with 2 Axes>"
      ]
     },
     "metadata": {},
     "output_type": "display_data"
    }
   ],
   "source": [
    "#Visualize S and C\n",
    "plt.figure(1, figsize=(8, 5))\n",
    "ax1 = plt.subplot(211)\n",
    "ax1.imshow(S_real)\n",
    "ax2 = plt.subplot(212)\n",
    "ax2.imshow(C_test)\n",
    "plt.show() "
   ]
  },
  {
   "cell_type": "code",
   "execution_count": 9,
   "metadata": {},
   "outputs": [
    {
     "data": {
      "image/png": "[encoded data removed]",
      "text/plain": [
       "<Figure size 576x360 with 1 Axes>"
      ]
     },
     "metadata": {},
     "output_type": "display_data"
    }
   ],
   "source": [
    "plt.figure(1, figsize=(8, 5))\n",
    "ax1 = plt.subplot(211)\n",
    "ax1.imshow(E_real)\n",
    "plt.show()"
   ]
  },
  {
   "cell_type": "markdown",
   "metadata": {},
   "source": [
    "Use simulated data created above to test the package:"
   ]
  },
  {
   "cell_type": "code",
   "execution_count": 10,
   "metadata": {
    "scrolled": false
   },
   "outputs": [
    {
     "name": "stderr",
     "output_type": "stream",
     "text": [
      "WARNING:root:OpenBLAS detected. Its highly recommend to set the environment variable 'export OPENBLAS_NUM_THREADS=1' to disable its internal multithreading\n",
      "100%|██████████| 15.0/15 [00:00<00:00, 127.09it/s]\n",
      "/Users/bergeric/miniconda3/envs/netrex/lib/python3.6/site-packages/ipykernel_launcher.py:42: RuntimeWarning: invalid value encountered in true_divide\n"
     ]
    },
    {
     "data": {
      "image/png": "[encoded data removed]",
      "text/plain": [
       "<Figure size 576x216 with 2 Axes>"
      ]
     },
     "metadata": {},
     "output_type": "display_data"
    },
    {
     "data": {
      "image/png": "[encoded data removed]",
      "text/plain": [
       "<Figure size 576x216 with 2 Axes>"
      ]
     },
     "metadata": {},
     "output_type": "display_data"
    },
    {
     "name": "stdout",
     "output_type": "stream",
     "text": [
      "Itr 0, Obj 293.530026\n"
     ]
    },
    {
     "data": {
      "image/png": "[encoded data removed]",
      "text/plain": [
       "<Figure size 576x216 with 2 Axes>"
      ]
     },
     "metadata": {},
     "output_type": "display_data"
    },
    {
     "name": "stdout",
     "output_type": "stream",
     "text": [
      "Itr 1, Obj 226.674690\n"
     ]
    },
    {
     "data": {
      "image/png": "[encoded data removed]",
      "text/plain": [
       "<Figure size 576x216 with 2 Axes>"
      ]
     },
     "metadata": {},
     "output_type": "display_data"
    },
    {
     "name": "stdout",
     "output_type": "stream",
     "text": [
      "Itr 2, Obj 200.572907\n"
     ]
    },
    {
     "data": {
      "image/png": "[encoded data removed]",
      "text/plain": [
       "<Figure size 576x216 with 2 Axes>"
      ]
     },
     "metadata": {},
     "output_type": "display_data"
    },
    {
     "name": "stdout",
     "output_type": "stream",
     "text": [
      "Itr 3, Obj 187.711536\n"
     ]
    },
    {
     "data": {
      "image/png": "[encoded data removed]",
      "text/plain": [
       "<Figure size 576x216 with 2 Axes>"
      ]
     },
     "metadata": {},
     "output_type": "display_data"
    },
    {
     "name": "stdout",
     "output_type": "stream",
     "text": [
      "Itr 4, Obj 180.506138\n"
     ]
    },
    {
     "data": {
      "image/png": "[encoded data removed]",
      "text/plain": [
       "<Figure size 576x216 with 2 Axes>"
      ]
     },
     "metadata": {},
     "output_type": "display_data"
    },
    {
     "name": "stdout",
     "output_type": "stream",
     "text": [
      "Itr 5, Obj 176.293771\n"
     ]
    },
    {
     "data": {
      "image/png": "[encoded data removed]",
      "text/plain": [
       "<Figure size 576x216 with 2 Axes>"
      ]
     },
     "metadata": {},
     "output_type": "display_data"
    },
    {
     "name": "stdout",
     "output_type": "stream",
     "text": [
      "Itr 6, Obj 173.821426\n"
     ]
    },
    {
     "data": {
      "image/png": "[encoded data removed]",
      "text/plain": [
       "<Figure size 576x216 with 2 Axes>"
      ]
     },
     "metadata": {},
     "output_type": "display_data"
    },
    {
     "name": "stdout",
     "output_type": "stream",
     "text": [
      "Itr 7, Obj 172.375960\n"
     ]
    },
    {
     "data": {
      "image/png": "[encoded data removed]",
      "text/plain": [
       "<Figure size 576x216 with 2 Axes>"
      ]
     },
     "metadata": {},
     "output_type": "display_data"
    },
    {
     "name": "stdout",
     "output_type": "stream",
     "text": [
      "Itr 8, Obj 171.529719\n"
     ]
    },
    {
     "data": {
      "image/png": "[encoded data removed]",
      "text/plain": [
       "<Figure size 576x216 with 2 Axes>"
      ]
     },
     "metadata": {},
     "output_type": "display_data"
    },
    {
     "name": "stdout",
     "output_type": "stream",
     "text": [
      "Itr 9, Obj 171.028715\n"
     ]
    },
    {
     "data": {
      "image/png": "[encoded data removed]",
      "text/plain": [
       "<Figure size 576x216 with 2 Axes>"
      ]
     },
     "metadata": {},
     "output_type": "display_data"
    },
    {
     "name": "stdout",
     "output_type": "stream",
     "text": [
      "Itr 10, Obj 170.725362\n"
     ]
    },
    {
     "data": {
      "image/png": "[encoded data removed]",
      "text/plain": [
       "<Figure size 576x216 with 2 Axes>"
      ]
     },
     "metadata": {},
     "output_type": "display_data"
    },
    {
     "name": "stdout",
     "output_type": "stream",
     "text": [
      "Itr 11, Obj 170.535371\n"
     ]
    },
    {
     "data": {
      "image/png": "[encoded data removed]",
      "text/plain": [
       "<Figure size 576x216 with 2 Axes>"
      ]
     },
     "metadata": {},
     "output_type": "display_data"
    },
    {
     "name": "stdout",
     "output_type": "stream",
     "text": [
      "Itr 12, Obj 170.411058\n"
     ]
    },
    {
     "data": {
      "image/png": "[encoded data removed]",
      "text/plain": [
       "<Figure size 576x216 with 2 Axes>"
      ]
     },
     "metadata": {},
     "output_type": "display_data"
    },
    {
     "name": "stdout",
     "output_type": "stream",
     "text": [
      "Itr 13, Obj 170.325493\n",
      "Converge!\n"
     ]
    },
    {
     "data": {
      "text/plain": [
       "170.4110580785771"
      ]
     },
     "execution_count": 10,
     "metadata": {},
     "output_type": "execute_result"
    }
   ],
   "source": [
    "tmp = NetREX(E_real, C_test, lmda_real)\n",
    "tmp.NetREX_algorithm()"
   ]
  },
  {
   "cell_type": "code",
   "execution_count": 29,
   "metadata": {},
   "outputs": [
    {
     "data": {
      "image/png": "[encoded data removed]",
      "text/plain": [
       "<Figure size 576x360 with 1 Axes>"
      ]
     },
     "metadata": {},
     "output_type": "display_data"
    }
   ],
   "source": [
    "S_test = tmp.S\n",
    "A_test = tmp.A\n",
    "\n",
    "plt.figure(1, figsize=(8, 5))\n",
    "ax1 = plt.subplot(211)\n",
    "ax1.imshow(tmp.S)\n",
    "#ax2 = plt.subplot(212)\n",
    "#ax2.imshow((tmp.S > 0).astype(int))\n",
    "plt.show()"
   ]
  },
  {
   "cell_type": "code",
   "execution_count": 30,
   "metadata": {},
   "outputs": [
    {
     "data": {
      "text/plain": [
       "(31, 16)"
      ]
     },
     "execution_count": 30,
     "metadata": {},
     "output_type": "execute_result"
    }
   ],
   "source": [
    "S_test.shape"
   ]
  },
  {
   "cell_type": "code",
   "execution_count": 31,
   "metadata": {},
   "outputs": [
    {
     "data": {
      "image/png": "[encoded data removed]",
      "text/plain": [
       "<Figure size 576x216 with 1 Axes>"
      ]
     },
     "metadata": {},
     "output_type": "display_data"
    }
   ],
   "source": [
    "X_test = tmp.X\n",
    "Y_test = tmp.Y\n",
    "\n",
    "plt.figure(1, figsize=(8, 3))\n",
    "ax2 = plt.subplot(212)\n",
    "ax2.imshow(X_test.T.dot(Y_test))\n",
    "plt.show()"
   ]
  },
  {
   "cell_type": "code",
   "execution_count": null,
   "metadata": {},
   "outputs": [],
   "source": []
  },
  {
   "cell_type": "code",
   "execution_count": 32,
   "metadata": {},
   "outputs": [],
   "source": [
    "s_pred = (S_test > 0).astype(int).flatten()\n",
    "s_real = S_real_binary.flatten()"
   ]
  },
  {
   "cell_type": "code",
   "execution_count": 33,
   "metadata": {},
   "outputs": [
    {
     "name": "stdout",
     "output_type": "stream",
     "text": [
      "[[444   0]\n",
      " [ 12  40]]\n"
     ]
    }
   ],
   "source": [
    "confmat = confusion_matrix(y_true=s_real, y_pred=s_pred)\n",
    "print(confmat)"
   ]
  },
  {
   "cell_type": "code",
   "execution_count": 34,
   "metadata": {},
   "outputs": [
    {
     "name": "stdout",
     "output_type": "stream",
     "text": [
      "Precision: 1.000\n",
      "Recall: 0.769\n"
     ]
    }
   ],
   "source": [
    "print('Precision: %.3f' % precision_score(y_true=s_real, y_pred=s_pred))\n",
    "print('Recall: %.3f' % recall_score(y_true=s_real, y_pred=s_pred))"
   ]
  },
  {
   "cell_type": "markdown",
   "metadata": {},
   "source": [
    "### Make the task harder\n",
    "\n",
    "Have a way to control the sparsity of C, a way to add noise to C and a way to control the noise of E. Then try different combination to see the performance"
   ]
  },
  {
   "cell_type": "code",
   "execution_count": 35,
   "metadata": {},
   "outputs": [],
   "source": [
    "#drop some percentage of values from C & add some amount of noise\n",
    "def make_C(C, drop, dist):\n",
    "    #make some % from each of the blocks false edges.  \n",
    "    blocks = [bl1, bl2, bl3]\n",
    "    for block in blocks: \n",
    "        pct = round(block.size * drop)\n",
    "        for i in range(pct):\n",
    "            block[np.random.randint(block.shape[0])][np.random.randint(block.shape[1])] = np.random.rand()\n",
    "        np.random.permutation(block)  \n",
    "    dropped_some_pct = block_diag(bl1, bl2, bl3)\n",
    "\n",
    "    #C with % of false edges in each block\n",
    "    C_test = dropped_some_pct * C\n",
    "\n",
    "    #add noise to off diagonal\n",
    "    noise = np.where(C == 0, np.random.normal(0, dist, size=(C.shape[0], C.shape[1])), 0)\n",
    "    C_again = C_test + noise\n",
    "    return C_again\n",
    "\n",
    "#add some amount of noise to E\n",
    "def make_E(E, dist):\n",
    "    E_new = E + np.random.normal(0, dist, size=(E.shape[0], E.shape[1]))\n",
    "    return E_new\n",
    "\n",
    "\n",
    "#NOTE FOR MONDAY: Add noise to area off of the block instead of everything"
   ]
  },
  {
   "cell_type": "code",
   "execution_count": null,
   "metadata": {},
   "outputs": [],
   "source": []
  },
  {
   "cell_type": "code",
   "execution_count": 36,
   "metadata": {},
   "outputs": [
    {
     "ename": "ValueError",
     "evalue": "operands could not be broadcast together with shapes (11,5) (31,16) ",
     "output_type": "error",
     "traceback": [
      "\u001b[0;31m---------------------------------------------------------------------------\u001b[0m",
      "\u001b[0;31mValueError\u001b[0m                                Traceback (most recent call last)",
      "\u001b[0;32m<ipython-input-36-b9fa095889a9>\u001b[0m in \u001b[0;36m<module>\u001b[0;34m()\u001b[0m\n\u001b[0;32m----> 1\u001b[0;31m \u001b[0mtestC1\u001b[0m \u001b[0;34m=\u001b[0m \u001b[0mmake_C\u001b[0m\u001b[0;34m(\u001b[0m\u001b[0mC_real\u001b[0m\u001b[0;34m,\u001b[0m \u001b[0;36m0\u001b[0m\u001b[0;34m,\u001b[0m \u001b[0;36m.005\u001b[0m\u001b[0;34m)\u001b[0m\u001b[0;34m\u001b[0m\u001b[0m\n\u001b[0m\u001b[1;32m      2\u001b[0m \u001b[0mtestC2\u001b[0m \u001b[0;34m=\u001b[0m \u001b[0mmake_C\u001b[0m\u001b[0;34m(\u001b[0m\u001b[0mC_real\u001b[0m\u001b[0;34m,\u001b[0m \u001b[0;36m.15\u001b[0m\u001b[0;34m,\u001b[0m \u001b[0;36m.005\u001b[0m\u001b[0;34m)\u001b[0m\u001b[0;34m\u001b[0m\u001b[0m\n\u001b[1;32m      3\u001b[0m \u001b[0mtestC3\u001b[0m \u001b[0;34m=\u001b[0m \u001b[0mmake_C\u001b[0m\u001b[0;34m(\u001b[0m\u001b[0mC_real\u001b[0m\u001b[0;34m,\u001b[0m \u001b[0;36m.15\u001b[0m\u001b[0;34m,\u001b[0m \u001b[0;36m.005\u001b[0m\u001b[0;34m)\u001b[0m\u001b[0;34m\u001b[0m\u001b[0m\n",
      "\u001b[0;32m<ipython-input-35-7b61084ddf45>\u001b[0m in \u001b[0;36mmake_C\u001b[0;34m(C, drop, dist)\u001b[0m\n\u001b[1;32m     11\u001b[0m \u001b[0;34m\u001b[0m\u001b[0m\n\u001b[1;32m     12\u001b[0m     \u001b[0;31m#C with % of false edges in each block\u001b[0m\u001b[0;34m\u001b[0m\u001b[0;34m\u001b[0m\u001b[0m\n\u001b[0;32m---> 13\u001b[0;31m     \u001b[0mC_test\u001b[0m \u001b[0;34m=\u001b[0m \u001b[0mdropped_some_pct\u001b[0m \u001b[0;34m*\u001b[0m \u001b[0mC\u001b[0m\u001b[0;34m\u001b[0m\u001b[0m\n\u001b[0m\u001b[1;32m     14\u001b[0m \u001b[0;34m\u001b[0m\u001b[0m\n\u001b[1;32m     15\u001b[0m     \u001b[0;31m#add noise to off diagonal\u001b[0m\u001b[0;34m\u001b[0m\u001b[0;34m\u001b[0m\u001b[0m\n",
      "\u001b[0;31mValueError\u001b[0m: operands could not be broadcast together with shapes (11,5) (31,16) "
     ]
    }
   ],
   "source": [
    "testC1 = make_C(C_real, 0, .005)\n",
    "testC2 = make_C(C_real, .15, .005)\n",
    "testC3 = make_C(C_real, .15, .005)"
   ]
  },
  {
   "cell_type": "code",
   "execution_count": 37,
   "metadata": {},
   "outputs": [
    {
     "ename": "NameError",
     "evalue": "name 'testC1' is not defined",
     "output_type": "error",
     "traceback": [
      "\u001b[0;31m---------------------------------------------------------------------------\u001b[0m",
      "\u001b[0;31mNameError\u001b[0m                                 Traceback (most recent call last)",
      "\u001b[0;32m<ipython-input-37-a542dc9843d7>\u001b[0m in \u001b[0;36m<module>\u001b[0;34m()\u001b[0m\n\u001b[1;32m      1\u001b[0m \u001b[0mplt\u001b[0m\u001b[0;34m.\u001b[0m\u001b[0mfigure\u001b[0m\u001b[0;34m(\u001b[0m\u001b[0;36m1\u001b[0m\u001b[0;34m,\u001b[0m \u001b[0mfigsize\u001b[0m\u001b[0;34m=\u001b[0m\u001b[0;34m(\u001b[0m\u001b[0;36m8\u001b[0m\u001b[0;34m,\u001b[0m \u001b[0;36m3\u001b[0m\u001b[0;34m)\u001b[0m\u001b[0;34m)\u001b[0m\u001b[0;34m\u001b[0m\u001b[0m\n\u001b[1;32m      2\u001b[0m \u001b[0max1\u001b[0m \u001b[0;34m=\u001b[0m \u001b[0mplt\u001b[0m\u001b[0;34m.\u001b[0m\u001b[0msubplot\u001b[0m\u001b[0;34m(\u001b[0m\u001b[0;36m211\u001b[0m\u001b[0;34m)\u001b[0m\u001b[0;34m\u001b[0m\u001b[0m\n\u001b[0;32m----> 3\u001b[0;31m \u001b[0max1\u001b[0m\u001b[0;34m.\u001b[0m\u001b[0mimshow\u001b[0m\u001b[0;34m(\u001b[0m\u001b[0mtestC1\u001b[0m\u001b[0;34m)\u001b[0m\u001b[0;34m\u001b[0m\u001b[0m\n\u001b[0m\u001b[1;32m      4\u001b[0m \u001b[0max2\u001b[0m \u001b[0;34m=\u001b[0m \u001b[0mplt\u001b[0m\u001b[0;34m.\u001b[0m\u001b[0msubplot\u001b[0m\u001b[0;34m(\u001b[0m\u001b[0;36m212\u001b[0m\u001b[0;34m)\u001b[0m\u001b[0;34m\u001b[0m\u001b[0m\n\u001b[1;32m      5\u001b[0m \u001b[0max2\u001b[0m\u001b[0;34m.\u001b[0m\u001b[0mimshow\u001b[0m\u001b[0;34m(\u001b[0m\u001b[0mtestC2\u001b[0m\u001b[0;34m)\u001b[0m\u001b[0;34m\u001b[0m\u001b[0m\n",
      "\u001b[0;31mNameError\u001b[0m: name 'testC1' is not defined"
     ]
    },
    {
     "data": {
      "image/png": "[encoded data removed]",
      "text/plain": [
       "<Figure size 576x216 with 1 Axes>"
      ]
     },
     "metadata": {},
     "output_type": "display_data"
    }
   ],
   "source": [
    "plt.figure(1, figsize=(8, 3))\n",
    "ax1 = plt.subplot(211)\n",
    "ax1.imshow(testC1)\n",
    "ax2 = plt.subplot(212)\n",
    "ax2.imshow(testC2)\n",
    "plt.show() "
   ]
  },
  {
   "cell_type": "code",
   "execution_count": 50,
   "metadata": {},
   "outputs": [
    {
     "name": "stderr",
     "output_type": "stream",
     "text": [
      "100%|██████████| 15.0/15 [00:00<00:00, 68.04it/s]\n"
     ]
    },
    {
     "data": {
      "image/png": "[encoded data removed]",
      "text/plain": [
       "<Figure size 576x216 with 2 Axes>"
      ]
     },
     "metadata": {},
     "output_type": "display_data"
    },
    {
     "name": "stderr",
     "output_type": "stream",
     "text": [
      "/Users/bergeric/miniconda3/envs/netrex/lib/python3.6/site-packages/ipykernel_launcher.py:80: RuntimeWarning: invalid value encountered in sqrt\n"
     ]
    },
    {
     "name": "stdout",
     "output_type": "stream",
     "text": [
      "Itr 0, Obj nan\n",
      "Itr 1, Obj nan\n",
      "Itr 2, Obj nan\n",
      "Itr 3, Obj nan\n",
      "Itr 4, Obj nan\n",
      "\n",
      "ECOS 2.0.4 - (C) embotech GmbH, Zurich Switzerland, 2012-15. Web: www.embotech.com/ECOS\n",
      "\n",
      "It     pcost       dcost      gap   pres   dres    k/t    mu     step   sigma     IR    |   BT\n",
      " 0  +2.835e-15  -8.681e+03  +3e+04  4e-01  2e-01  1e+00  5e+03    ---    ---    1  1  - |  -  - \n",
      " 1  -3.231e+03  -5.079e+03  +1e+04  2e-01  6e-02  2e+03  2e+03  0.9890  4e-01   2  2  2 |  0  0\n",
      " 2  -7.731e+02  -9.873e+02  +2e+03  3e-02  7e-03  3e+02  3e+02  0.8421  2e-02   3  3  3 |  0  0\n",
      " 3  -4.601e+02  -5.056e+02  +2e+02  2e-03  7e-04  2e+00  4e+01  0.9303  7e-02   4  4  4 |  0  0\n",
      " 4  -4.357e+02  -4.483e+02  +8e+01  6e-04  2e-04  2e+00  2e+01  0.7701  2e-01   4  5  5 |  0  0\n",
      " 5  -4.364e+02  -4.394e+02  +2e+01  1e-04  5e-05  9e-01  4e+00  0.8735  2e-01   3  4  4 |  0  0\n",
      " 6  -4.341e+02  -4.350e+02  +7e+00  5e-05  1e-05  3e-01  1e+00  0.8596  2e-01   5  6  6 |  0  0\n",
      " 7  -4.341e+02  -4.342e+02  +6e-01  4e-06  1e-06  3e-02  1e-01  0.9890  8e-02   3  4  4 |  0  0\n",
      " 8  -4.340e+02  -4.341e+02  +3e-02  3e-06  7e-08  1e-03  6e-03  0.9422  4e-03   5  5  5 |  0  0\n",
      " 9  -4.340e+02  -4.340e+02  +1e-03  8e-07  2e-09  4e-05  2e-04  0.9804  1e-02   5  6  6 |  0  0\n",
      "10  -4.340e+02  -4.340e+02  +4e-05  4e-08  7e-11  1e-06  8e-06  0.9665  1e-04   4  3  4 |  0  0\n",
      "11  -4.340e+02  -4.340e+02  +2e-06  6e-08  3e-12  8e-08  4e-07  0.9890  3e-02   5  4  4 |  0  0\n",
      "12  -4.340e+02  -4.340e+02  +3e-08  6e-09  5e-14  1e-09  7e-09  0.9871  1e-03   5  4  4 |  0  0\n",
      "\n",
      "OPTIMAL (within feastol=6.0e-09, reltol=7.8e-11, abstol=3.4e-08).\n",
      "Runtime: 0.001807 seconds.\n",
      "\n"
     ]
    },
    {
     "ename": "DCPError",
     "evalue": "Problem does not follow DCP rules.",
     "output_type": "error",
     "traceback": [
      "\u001b[0;31m---------------------------------------------------------------------------\u001b[0m",
      "\u001b[0;31mDCPError\u001b[0m                                  Traceback (most recent call last)",
      "\u001b[0;32m<ipython-input-33-80879c807af5>\u001b[0m in \u001b[0;36msolve_qcqp\u001b[0;34m(self, phi, varphi)\u001b[0m\n\u001b[1;32m    132\u001b[0m         \u001b[0;32mtry\u001b[0m\u001b[0;34m:\u001b[0m\u001b[0;34m\u001b[0m\u001b[0m\n\u001b[0;32m--> 133\u001b[0;31m             \u001b[0mresult\u001b[0m \u001b[0;34m=\u001b[0m \u001b[0mprob\u001b[0m\u001b[0;34m.\u001b[0m\u001b[0msolve\u001b[0m\u001b[0;34m(\u001b[0m\u001b[0msolver\u001b[0m\u001b[0;34m=\u001b[0m\u001b[0mself\u001b[0m\u001b[0;34m.\u001b[0m\u001b[0msolver\u001b[0m\u001b[0;34m)\u001b[0m\u001b[0;34m\u001b[0m\u001b[0m\n\u001b[0m\u001b[1;32m    134\u001b[0m             \u001b[0;32mreturn\u001b[0m \u001b[0mx\u001b[0m\u001b[0;34m.\u001b[0m\u001b[0mvalue\u001b[0m\u001b[0;34m\u001b[0m\u001b[0m\n",
      "\u001b[0;32m~/miniconda3/envs/netrex/lib/python3.6/site-packages/cvxpy/problems/problem.py\u001b[0m in \u001b[0;36msolve\u001b[0;34m(self, *args, **kwargs)\u001b[0m\n\u001b[1;32m    245\u001b[0m             \u001b[0msolve_func\u001b[0m \u001b[0;34m=\u001b[0m \u001b[0mProblem\u001b[0m\u001b[0;34m.\u001b[0m\u001b[0m_solve\u001b[0m\u001b[0;34m\u001b[0m\u001b[0m\n\u001b[0;32m--> 246\u001b[0;31m         \u001b[0;32mreturn\u001b[0m \u001b[0msolve_func\u001b[0m\u001b[0;34m(\u001b[0m\u001b[0mself\u001b[0m\u001b[0;34m,\u001b[0m \u001b[0;34m*\u001b[0m\u001b[0margs\u001b[0m\u001b[0;34m,\u001b[0m \u001b[0;34m**\u001b[0m\u001b[0mkwargs\u001b[0m\u001b[0;34m)\u001b[0m\u001b[0;34m\u001b[0m\u001b[0m\n\u001b[0m\u001b[1;32m    247\u001b[0m \u001b[0;34m\u001b[0m\u001b[0m\n",
      "\u001b[0;32m~/miniconda3/envs/netrex/lib/python3.6/site-packages/cvxpy/problems/problem.py\u001b[0m in \u001b[0;36m_solve\u001b[0;34m(self, solver, ignore_dcp, warm_start, verbose, parallel, **kwargs)\u001b[0m\n\u001b[1;32m    355\u001b[0m             \u001b[0;32mexcept\u001b[0m \u001b[0mException\u001b[0m \u001b[0;32mas\u001b[0m \u001b[0me\u001b[0m\u001b[0;34m:\u001b[0m\u001b[0;34m\u001b[0m\u001b[0m\n\u001b[0;32m--> 356\u001b[0;31m                 \u001b[0;32mraise\u001b[0m \u001b[0me\u001b[0m\u001b[0;34m\u001b[0m\u001b[0m\n\u001b[0m\u001b[1;32m    357\u001b[0m \u001b[0;34m\u001b[0m\u001b[0m\n",
      "\u001b[0;32m~/miniconda3/envs/netrex/lib/python3.6/site-packages/cvxpy/problems/problem.py\u001b[0m in \u001b[0;36m_solve\u001b[0;34m(self, solver, ignore_dcp, warm_start, verbose, parallel, **kwargs)\u001b[0m\n\u001b[1;32m    353\u001b[0m                 self._solving_chain = construct_solving_chain(self,\n\u001b[0;32m--> 354\u001b[0;31m                                                               solver=solver)\n\u001b[0m\u001b[1;32m    355\u001b[0m             \u001b[0;32mexcept\u001b[0m \u001b[0mException\u001b[0m \u001b[0;32mas\u001b[0m \u001b[0me\u001b[0m\u001b[0;34m:\u001b[0m\u001b[0;34m\u001b[0m\u001b[0m\n",
      "\u001b[0;32m~/miniconda3/envs/netrex/lib/python3.6/site-packages/cvxpy/reductions/solvers/solving_chain.py\u001b[0m in \u001b[0;36mconstruct_solving_chain\u001b[0;34m(problem, solver)\u001b[0m\n\u001b[1;32m     68\u001b[0m     \u001b[0;32mif\u001b[0m \u001b[0;32mnot\u001b[0m \u001b[0mproblem\u001b[0m\u001b[0;34m.\u001b[0m\u001b[0mis_dcp\u001b[0m\u001b[0;34m(\u001b[0m\u001b[0;34m)\u001b[0m\u001b[0;34m:\u001b[0m\u001b[0;34m\u001b[0m\u001b[0m\n\u001b[0;32m---> 69\u001b[0;31m         \u001b[0;32mraise\u001b[0m \u001b[0mDCPError\u001b[0m\u001b[0;34m(\u001b[0m\u001b[0;34m\"Problem does not follow DCP rules.\"\u001b[0m\u001b[0;34m)\u001b[0m\u001b[0;34m\u001b[0m\u001b[0m\n\u001b[0m\u001b[1;32m     70\u001b[0m \u001b[0;34m\u001b[0m\u001b[0m\n",
      "\u001b[0;31mDCPError\u001b[0m: Problem does not follow DCP rules.",
      "\nDuring handling of the above exception, another exception occurred:\n",
      "\u001b[0;31mDCPError\u001b[0m                                  Traceback (most recent call last)",
      "\u001b[0;32m<ipython-input-50-2950dd52a54d>\u001b[0m in \u001b[0;36m<module>\u001b[0;34m()\u001b[0m\n\u001b[1;32m      1\u001b[0m \u001b[0mtest1\u001b[0m \u001b[0;34m=\u001b[0m \u001b[0mNetREX\u001b[0m\u001b[0;34m(\u001b[0m\u001b[0mE_real\u001b[0m\u001b[0;34m,\u001b[0m \u001b[0mtestC1\u001b[0m\u001b[0;34m,\u001b[0m \u001b[0mlmda_real\u001b[0m\u001b[0;34m)\u001b[0m\u001b[0;34m\u001b[0m\u001b[0m\n\u001b[0;32m----> 2\u001b[0;31m \u001b[0mtest1\u001b[0m\u001b[0;34m.\u001b[0m\u001b[0mNetREX_algorithm\u001b[0m\u001b[0;34m(\u001b[0m\u001b[0;34m)\u001b[0m\u001b[0;34m\u001b[0m\u001b[0m\n\u001b[0m",
      "\u001b[0;32m<ipython-input-33-80879c807af5>\u001b[0m in \u001b[0;36mNetREX_algorithm\u001b[0;34m(self)\u001b[0m\n\u001b[1;32m    175\u001b[0m                 \u001b[0mself\u001b[0m\u001b[0;34m.\u001b[0m\u001b[0mPALM_S\u001b[0m\u001b[0;34m(\u001b[0m\u001b[0;34m)\u001b[0m\u001b[0;34m\u001b[0m\u001b[0m\n\u001b[1;32m    176\u001b[0m             \u001b[0mself\u001b[0m\u001b[0;34m.\u001b[0m\u001b[0mPALM_x\u001b[0m\u001b[0;34m(\u001b[0m\u001b[0;34m)\u001b[0m\u001b[0;34m\u001b[0m\u001b[0m\n\u001b[0;32m--> 177\u001b[0;31m             \u001b[0mself\u001b[0m\u001b[0;34m.\u001b[0m\u001b[0mPALM_y\u001b[0m\u001b[0;34m(\u001b[0m\u001b[0;34m)\u001b[0m\u001b[0;34m\u001b[0m\u001b[0m\n\u001b[0m\u001b[1;32m    178\u001b[0m             '''\n\u001b[1;32m    179\u001b[0m             \u001b[0mplt\u001b[0m\u001b[0;34m.\u001b[0m\u001b[0mfigure\u001b[0m\u001b[0;34m(\u001b[0m\u001b[0;36m1\u001b[0m\u001b[0;34m,\u001b[0m \u001b[0mfigsize\u001b[0m\u001b[0;34m=\u001b[0m\u001b[0;34m(\u001b[0m\u001b[0;36m8\u001b[0m\u001b[0;34m,\u001b[0m \u001b[0;36m3\u001b[0m\u001b[0;34m)\u001b[0m\u001b[0;34m)\u001b[0m\u001b[0;34m\u001b[0m\u001b[0m\n",
      "\u001b[0;32m<ipython-input-33-80879c807af5>\u001b[0m in \u001b[0;36mPALM_y\u001b[0;34m(self)\u001b[0m\n\u001b[1;32m    162\u001b[0m             \u001b[0mphi\u001b[0m \u001b[0;34m=\u001b[0m \u001b[0;34m(\u001b[0m\u001b[0mmu_y\u001b[0m\u001b[0;34m/\u001b[0m\u001b[0;36m2\u001b[0m\u001b[0;34m)\u001b[0m\u001b[0;34m*\u001b[0m\u001b[0mnp\u001b[0m\u001b[0;34m.\u001b[0m\u001b[0midentity\u001b[0m\u001b[0;34m(\u001b[0m\u001b[0mself\u001b[0m\u001b[0;34m.\u001b[0m\u001b[0mp\u001b[0m\u001b[0;34m)\u001b[0m \u001b[0;34m+\u001b[0m \u001b[0mself\u001b[0m\u001b[0;34m.\u001b[0m\u001b[0mX\u001b[0m\u001b[0;34m.\u001b[0m\u001b[0mdot\u001b[0m\u001b[0;34m(\u001b[0m\u001b[0mA_j\u001b[0m\u001b[0;34m)\u001b[0m\u001b[0;34m.\u001b[0m\u001b[0mdot\u001b[0m\u001b[0;34m(\u001b[0m\u001b[0mself\u001b[0m\u001b[0;34m.\u001b[0m\u001b[0mX\u001b[0m\u001b[0;34m.\u001b[0m\u001b[0mT\u001b[0m\u001b[0;34m)\u001b[0m\u001b[0;34m\u001b[0m\u001b[0m\n\u001b[1;32m    163\u001b[0m             \u001b[0mvarphi\u001b[0m \u001b[0;34m=\u001b[0m \u001b[0;36m2\u001b[0m\u001b[0;34m*\u001b[0m\u001b[0mS_j\u001b[0m\u001b[0;34m.\u001b[0m\u001b[0mT\u001b[0m\u001b[0;34m.\u001b[0m\u001b[0mdot\u001b[0m\u001b[0;34m(\u001b[0m\u001b[0mA_j\u001b[0m\u001b[0;34m)\u001b[0m\u001b[0;34m.\u001b[0m\u001b[0mdot\u001b[0m\u001b[0;34m(\u001b[0m\u001b[0mself\u001b[0m\u001b[0;34m.\u001b[0m\u001b[0mX\u001b[0m\u001b[0;34m.\u001b[0m\u001b[0mT\u001b[0m\u001b[0;34m)\u001b[0m \u001b[0;34m+\u001b[0m \u001b[0mmu_y\u001b[0m\u001b[0;34m*\u001b[0m\u001b[0my\u001b[0m\u001b[0;34m.\u001b[0m\u001b[0mT\u001b[0m\u001b[0;34m\u001b[0m\u001b[0m\n\u001b[0;32m--> 164\u001b[0;31m             \u001b[0mself\u001b[0m\u001b[0;34m.\u001b[0m\u001b[0mY\u001b[0m\u001b[0;34m[\u001b[0m\u001b[0;34m:\u001b[0m\u001b[0;34m,\u001b[0m\u001b[0mj\u001b[0m\u001b[0;34m]\u001b[0m \u001b[0;34m=\u001b[0m \u001b[0mself\u001b[0m\u001b[0;34m.\u001b[0m\u001b[0msolve_qcqp\u001b[0m\u001b[0;34m(\u001b[0m\u001b[0mphi\u001b[0m\u001b[0;34m,\u001b[0m \u001b[0mvarphi\u001b[0m\u001b[0;34m)\u001b[0m\u001b[0;34m\u001b[0m\u001b[0m\n\u001b[0m\u001b[1;32m    165\u001b[0m \u001b[0;34m\u001b[0m\u001b[0m\n\u001b[1;32m    166\u001b[0m     \u001b[0;31m#algorithm\u001b[0m\u001b[0;34m\u001b[0m\u001b[0;34m\u001b[0m\u001b[0m\n",
      "\u001b[0;32m<ipython-input-33-80879c807af5>\u001b[0m in \u001b[0;36msolve_qcqp\u001b[0;34m(self, phi, varphi)\u001b[0m\n\u001b[1;32m    134\u001b[0m             \u001b[0;32mreturn\u001b[0m \u001b[0mx\u001b[0m\u001b[0;34m.\u001b[0m\u001b[0mvalue\u001b[0m\u001b[0;34m\u001b[0m\u001b[0m\n\u001b[1;32m    135\u001b[0m         \u001b[0;32mexcept\u001b[0m\u001b[0;34m:\u001b[0m\u001b[0;34m\u001b[0m\u001b[0m\n\u001b[0;32m--> 136\u001b[0;31m             \u001b[0mprob\u001b[0m\u001b[0;34m.\u001b[0m\u001b[0msolve\u001b[0m\u001b[0;34m(\u001b[0m\u001b[0mverbose\u001b[0m\u001b[0;34m=\u001b[0m\u001b[0;32mTrue\u001b[0m\u001b[0;34m)\u001b[0m\u001b[0;34m\u001b[0m\u001b[0m\n\u001b[0m\u001b[1;32m    137\u001b[0m \u001b[0;34m\u001b[0m\u001b[0m\n\u001b[1;32m    138\u001b[0m \u001b[0;34m\u001b[0m\u001b[0m\n",
      "\u001b[0;32m~/miniconda3/envs/netrex/lib/python3.6/site-packages/cvxpy/problems/problem.py\u001b[0m in \u001b[0;36msolve\u001b[0;34m(self, *args, **kwargs)\u001b[0m\n\u001b[1;32m    244\u001b[0m         \u001b[0;32melse\u001b[0m\u001b[0;34m:\u001b[0m\u001b[0;34m\u001b[0m\u001b[0m\n\u001b[1;32m    245\u001b[0m             \u001b[0msolve_func\u001b[0m \u001b[0;34m=\u001b[0m \u001b[0mProblem\u001b[0m\u001b[0;34m.\u001b[0m\u001b[0m_solve\u001b[0m\u001b[0;34m\u001b[0m\u001b[0m\n\u001b[0;32m--> 246\u001b[0;31m         \u001b[0;32mreturn\u001b[0m \u001b[0msolve_func\u001b[0m\u001b[0;34m(\u001b[0m\u001b[0mself\u001b[0m\u001b[0;34m,\u001b[0m \u001b[0;34m*\u001b[0m\u001b[0margs\u001b[0m\u001b[0;34m,\u001b[0m \u001b[0;34m**\u001b[0m\u001b[0mkwargs\u001b[0m\u001b[0;34m)\u001b[0m\u001b[0;34m\u001b[0m\u001b[0m\n\u001b[0m\u001b[1;32m    247\u001b[0m \u001b[0;34m\u001b[0m\u001b[0m\n\u001b[1;32m    248\u001b[0m     \u001b[0;34m@\u001b[0m\u001b[0mclassmethod\u001b[0m\u001b[0;34m\u001b[0m\u001b[0m\n",
      "\u001b[0;32m~/miniconda3/envs/netrex/lib/python3.6/site-packages/cvxpy/problems/problem.py\u001b[0m in \u001b[0;36m_solve\u001b[0;34m(self, solver, ignore_dcp, warm_start, verbose, parallel, **kwargs)\u001b[0m\n\u001b[1;32m    354\u001b[0m                                                               solver=solver)\n\u001b[1;32m    355\u001b[0m             \u001b[0;32mexcept\u001b[0m \u001b[0mException\u001b[0m \u001b[0;32mas\u001b[0m \u001b[0me\u001b[0m\u001b[0;34m:\u001b[0m\u001b[0;34m\u001b[0m\u001b[0m\n\u001b[0;32m--> 356\u001b[0;31m                 \u001b[0;32mraise\u001b[0m \u001b[0me\u001b[0m\u001b[0;34m\u001b[0m\u001b[0m\n\u001b[0m\u001b[1;32m    357\u001b[0m \u001b[0;34m\u001b[0m\u001b[0m\n\u001b[1;32m    358\u001b[0m         \u001b[0mdata\u001b[0m\u001b[0;34m,\u001b[0m \u001b[0minverse_data\u001b[0m \u001b[0;34m=\u001b[0m \u001b[0mself\u001b[0m\u001b[0;34m.\u001b[0m\u001b[0m_solving_chain\u001b[0m\u001b[0;34m.\u001b[0m\u001b[0mapply\u001b[0m\u001b[0;34m(\u001b[0m\u001b[0mself\u001b[0m\u001b[0;34m)\u001b[0m\u001b[0;34m\u001b[0m\u001b[0m\n",
      "\u001b[0;32m~/miniconda3/envs/netrex/lib/python3.6/site-packages/cvxpy/problems/problem.py\u001b[0m in \u001b[0;36m_solve\u001b[0;34m(self, solver, ignore_dcp, warm_start, verbose, parallel, **kwargs)\u001b[0m\n\u001b[1;32m    352\u001b[0m             \u001b[0;32mtry\u001b[0m\u001b[0;34m:\u001b[0m\u001b[0;34m\u001b[0m\u001b[0m\n\u001b[1;32m    353\u001b[0m                 self._solving_chain = construct_solving_chain(self,\n\u001b[0;32m--> 354\u001b[0;31m                                                               solver=solver)\n\u001b[0m\u001b[1;32m    355\u001b[0m             \u001b[0;32mexcept\u001b[0m \u001b[0mException\u001b[0m \u001b[0;32mas\u001b[0m \u001b[0me\u001b[0m\u001b[0;34m:\u001b[0m\u001b[0;34m\u001b[0m\u001b[0m\n\u001b[1;32m    356\u001b[0m                 \u001b[0;32mraise\u001b[0m \u001b[0me\u001b[0m\u001b[0;34m\u001b[0m\u001b[0m\n",
      "\u001b[0;32m~/miniconda3/envs/netrex/lib/python3.6/site-packages/cvxpy/reductions/solvers/solving_chain.py\u001b[0m in \u001b[0;36mconstruct_solving_chain\u001b[0;34m(problem, solver)\u001b[0m\n\u001b[1;32m     67\u001b[0m     \u001b[0;31m# Both of these chains require that the problem is DCP.\u001b[0m\u001b[0;34m\u001b[0m\u001b[0;34m\u001b[0m\u001b[0m\n\u001b[1;32m     68\u001b[0m     \u001b[0;32mif\u001b[0m \u001b[0;32mnot\u001b[0m \u001b[0mproblem\u001b[0m\u001b[0;34m.\u001b[0m\u001b[0mis_dcp\u001b[0m\u001b[0;34m(\u001b[0m\u001b[0;34m)\u001b[0m\u001b[0;34m:\u001b[0m\u001b[0;34m\u001b[0m\u001b[0m\n\u001b[0;32m---> 69\u001b[0;31m         \u001b[0;32mraise\u001b[0m \u001b[0mDCPError\u001b[0m\u001b[0;34m(\u001b[0m\u001b[0;34m\"Problem does not follow DCP rules.\"\u001b[0m\u001b[0;34m)\u001b[0m\u001b[0;34m\u001b[0m\u001b[0m\n\u001b[0m\u001b[1;32m     70\u001b[0m \u001b[0;34m\u001b[0m\u001b[0m\n\u001b[1;32m     71\u001b[0m     \u001b[0;31m# Both reduction chains exclusively accept minimization problems.\u001b[0m\u001b[0;34m\u001b[0m\u001b[0;34m\u001b[0m\u001b[0m\n",
      "\u001b[0;31mDCPError\u001b[0m: Problem does not follow DCP rules."
     ]
    }
   ],
   "source": [
    "test1 = NetREX(E_real, testC1, lmda_real)\n",
    "test1.NetREX_algorithm()"
   ]
  },
  {
   "cell_type": "code",
   "execution_count": null,
   "metadata": {
    "collapsed": true
   },
   "outputs": [],
   "source": [
    "#try again with different solver?\n",
    "\n",
    "test1_again = NetREX(E_real, testC1, lmda_real, solver=CVXOPT)\n",
    "test1_again.NetREX_algorithm()"
   ]
  },
  {
   "cell_type": "code",
   "execution_count": null,
   "metadata": {
    "collapsed": true
   },
   "outputs": [],
   "source": [
    "test2 = NetREX(E_real, testC2, lmda_real)\n",
    "test2.NetREX_algorithm()"
   ]
  },
  {
   "cell_type": "code",
   "execution_count": null,
   "metadata": {
    "collapsed": true
   },
   "outputs": [],
   "source": [
    "test3 = NetREX(E_real, testC3, lmda_real)\n",
    "test3.NetREX_algorithm()"
   ]
  },
  {
   "cell_type": "code",
   "execution_count": null,
   "metadata": {
    "collapsed": true
   },
   "outputs": [],
   "source": [
    "testE1 = make_E(E_real, .005)\n",
    "\n",
    "test4 = NetREX(testE1, C_test, lmda_real)\n",
    "test4.NetREX_algorithm()"
   ]
  },
  {
   "cell_type": "code",
   "execution_count": null,
   "metadata": {
    "collapsed": true
   },
   "outputs": [],
   "source": [
    "testS4 = test4.S\n",
    "\n",
    "plt.figure(1, figsize=(8, 3))\n",
    "ax1 = plt.subplot(211)\n",
    "ax1.imshow(testS4)\n",
    "plt.show()"
   ]
  },
  {
   "cell_type": "code",
   "execution_count": null,
   "metadata": {
    "collapsed": true
   },
   "outputs": [],
   "source": [
    "testE2 = make_E(E_real, .05)\n",
    "\n",
    "test5 = NetREX(testE2, C_test, lmda_real)\n",
    "test5.NetREX_algorithm()"
   ]
  },
  {
   "cell_type": "code",
   "execution_count": null,
   "metadata": {
    "collapsed": true
   },
   "outputs": [],
   "source": [
    "testS5 = test5.S\n",
    "\n",
    "plt.figure(1, figsize=(8, 3))\n",
    "ax1 = plt.subplot(211)\n",
    "ax1.imshow(testS5)\n",
    "plt.show()"
   ]
  },
  {
   "cell_type": "code",
   "execution_count": null,
   "metadata": {
    "collapsed": true
   },
   "outputs": [],
   "source": [
    "testC4 = make_C(C_real, 0, .005)\n",
    "\n",
    "test6 = NetREX(E_real, testC4, lmda_real)\n",
    "test6.NetREX_algorithm()"
   ]
  },
  {
   "cell_type": "code",
   "execution_count": null,
   "metadata": {
    "collapsed": true
   },
   "outputs": [],
   "source": [
    "testC5 = make_C(C_real, .15, 0)\n",
    "\n",
    "test7 = NetREX(E_real, testC5, lmda_real)\n",
    "test7.NetREX_algorithm()"
   ]
  },
  {
   "cell_type": "code",
   "execution_count": null,
   "metadata": {
    "collapsed": true
   },
   "outputs": [],
   "source": [
    "testS7 = test7.S\n",
    "\n",
    "plt.figure(1, figsize=(8, 3))\n",
    "ax1 = plt.subplot(211)\n",
    "ax1.imshow(testS7)\n",
    "plt.show()"
   ]
  },
  {
   "cell_type": "markdown",
   "metadata": {},
   "source": [
    "#### Test out some other dimensions "
   ]
  },
  {
   "cell_type": "code",
   "execution_count": null,
   "metadata": {
    "collapsed": true
   },
   "outputs": [],
   "source": [
    "#build S with blocks on diagonal\n",
    "\n",
    "#make 3 blocks of diff sized matrices of 1s\n",
    "bl1 = np.ones((10, 10))\n",
    "bl2 = np.ones((2, 3))\n",
    "bl3 = np.ones((15, 30))\n",
    "\n",
    "S_real = block_diag(bl1, bl2, bl3)\n",
    "m = S_real.shape[0] #number genes\n",
    "n = S_real.shape[1] #number tfs\n",
    "\n",
    "l = 150 #number exp samples\n",
    "\n",
    "#build A dim n x l (tf x expsamples)\n",
    "A_real = np.random.rand(n, l)\n",
    "\n",
    "#build E dim m x l\n",
    "E_real = S_real.dot(A_real)\n",
    "\n",
    "#build weight matrix C dim m x n from S\n",
    "C_real = np.random.rand(m, n) * S_real\n",
    "\n",
    "#build test C \n",
    "#make 10% from each of the blocks 0.  \n",
    "blocks = [bl1, bl2, bl3]\n",
    "\n",
    "for block in blocks: \n",
    "    pct = round(block.size * .10)\n",
    "    for i in range(pct):\n",
    "        block[np.random.randint(block.shape[0])][np.random.randint(block.shape[1])] = 0\n",
    "    np.random.permutation(block)\n",
    "    \n",
    "dropped_ten_pct = block_diag(bl1, bl2, bl3)\n",
    "\n",
    "#build C with 10% of vals in each block dropped\n",
    "C_test = dropped_ten_pct * C_real\n",
    "\n",
    "#build parameter matrix lambda_ dim m x n \n",
    "lmda_real = np.ones((m, n))\n",
    "\n",
    "#set theta and alpha to 1\n",
    "\n",
    "#Visualize S and C\n",
    "plt.figure(1, figsize=(8, 3))\n",
    "ax1 = plt.subplot(211)\n",
    "ax1.imshow(S_real)\n",
    "ax2 = plt.subplot(212)\n",
    "ax2.imshow(C_test)\n",
    "plt.show() "
   ]
  },
  {
   "cell_type": "code",
   "execution_count": null,
   "metadata": {
    "collapsed": true
   },
   "outputs": [],
   "source": [
    "baddim = NetREX(E_real, C_test, lmda_real)\n",
    "baddim.NetREX_algorithm()"
   ]
  },
  {
   "cell_type": "code",
   "execution_count": null,
   "metadata": {
    "collapsed": true
   },
   "outputs": [],
   "source": [
    "test_new_C = make_C(C_real, 0, .005)\n",
    "\n",
    "new_dim_test = NetREX(E_real, test_new_C, lmda_real)\n",
    "new_dim_test.NetREX_algorithm()"
   ]
  },
  {
   "cell_type": "code",
   "execution_count": null,
   "metadata": {
    "collapsed": true
   },
   "outputs": [],
   "source": [
    "test_new_C2 = make_C(C_real, .20, 0)\n",
    "\n",
    "new_dim_test2 = NetREX(E_real, test_new_C2, lmda_real)\n",
    "new_dim_test2.NetREX_algorithm()"
   ]
  },
  {
   "cell_type": "code",
   "execution_count": null,
   "metadata": {
    "collapsed": true
   },
   "outputs": [],
   "source": []
  },
  {
   "cell_type": "code",
   "execution_count": null,
   "metadata": {
    "collapsed": true
   },
   "outputs": [],
   "source": []
  },
  {
   "cell_type": "code",
   "execution_count": null,
   "metadata": {
    "collapsed": true
   },
   "outputs": [],
   "source": []
  },
  {
   "cell_type": "code",
   "execution_count": null,
   "metadata": {
    "collapsed": true
   },
   "outputs": [],
   "source": []
  },
  {
   "cell_type": "code",
   "execution_count": null,
   "metadata": {
    "collapsed": true
   },
   "outputs": [],
   "source": []
  },
  {
   "cell_type": "code",
   "execution_count": null,
   "metadata": {
    "collapsed": true
   },
   "outputs": [],
   "source": []
  },
  {
   "cell_type": "code",
   "execution_count": null,
   "metadata": {
    "collapsed": true
   },
   "outputs": [],
   "source": []
  },
  {
   "cell_type": "code",
   "execution_count": null,
   "metadata": {
    "collapsed": true
   },
   "outputs": [],
   "source": [
    "#Add in later:\n",
    "\n",
    "#stolen from Netrex 1 code\n",
    "    def ReadinExp(self, filename):\n",
    "        df = pd.DataFrame.from_csv(filename, header=None, sep=\"\\t\")\n",
    "        self.Genename = list(df.index)\n",
    "        #self.ExpMat = np.matrix(df.values)\n",
    "        TmpExp = np.matrix(copy.deepcopy(df.values))\n",
    "        RowSumTmpExp = np.sum(TmpExp, axis=1)\n",
    "        Ind0 = np.where(RowSumTmpExp==0.)[0]\n",
    "        if(Ind0.size>0):\n",
    "            sys.exit(\"Error: Genes %s's Expression has all zeros!!!\" % (self.Genename[Ind0[0]]))\n",
    "        for i in range(TmpExp.shape[1]):\n",
    "            Range = np.max(TmpExp[:,i]) - np.min(TmpExp[:,i])\n",
    "            TmpExp[:,i] = (TmpExp[:,i] - np.min(TmpExp[:,i])) / Range\n",
    "        self.ExpMat = TmpExp\n",
    "        self.ExpMatFix = np.matrix(copy.deepcopy(TmpExp))\n",
    "        self.NumGene = df.shape[0] #number of genes\n",
    "        self.NumExp = df.shape[1]  #number of exp samples"
   ]
  }
 ],
 "metadata": {
  "kernelspec": {
   "display_name": "Python 3",
   "language": "python",
   "name": "python3"
  },
  "language_info": {
   "codemirror_mode": {
    "name": "ipython",
    "version": 3
   },
   "file_extension": ".py",
   "mimetype": "text/x-python",
   "name": "python",
   "nbconvert_exporter": "python",
   "pygments_lexer": "ipython3",
   "version": "3.6.6"
  }
 },
 "nbformat": 4,
 "nbformat_minor": 2
}
