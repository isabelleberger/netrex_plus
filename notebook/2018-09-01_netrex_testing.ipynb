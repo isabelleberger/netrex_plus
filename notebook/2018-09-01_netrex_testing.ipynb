{
 "cells": [
  {
   "cell_type": "code",
   "execution_count": 1,
   "metadata": {},
   "outputs": [
    {
     "name": "stderr",
     "output_type": "stream",
     "text": [
      "/Users/bergeric/miniconda3/envs/netrex/lib/python3.6/importlib/_bootstrap.py:219: RuntimeWarning: numpy.dtype size changed, may indicate binary incompatibility. Expected 96, got 88\n",
      "  return f(*args, **kwds)\n",
      "/Users/bergeric/miniconda3/envs/netrex/lib/python3.6/importlib/_bootstrap.py:219: RuntimeWarning: numpy.dtype size changed, may indicate binary incompatibility. Expected 96, got 88\n",
      "  return f(*args, **kwds)\n",
      "/Users/bergeric/miniconda3/envs/netrex/lib/python3.6/importlib/_bootstrap.py:219: RuntimeWarning: numpy.dtype size changed, may indicate binary incompatibility. Expected 96, got 88\n",
      "  return f(*args, **kwds)\n",
      "/Users/bergeric/miniconda3/envs/netrex/lib/python3.6/importlib/_bootstrap.py:219: RuntimeWarning: numpy.dtype size changed, may indicate binary incompatibility. Expected 96, got 88\n",
      "  return f(*args, **kwds)\n",
      "/Users/bergeric/miniconda3/envs/netrex/lib/python3.6/importlib/_bootstrap.py:219: RuntimeWarning: numpy.dtype size changed, may indicate binary incompatibility. Expected 96, got 88\n",
      "  return f(*args, **kwds)\n"
     ]
    }
   ],
   "source": [
    "#clean notebook for testing \n",
    "\n",
    "import numpy as np\n",
    "import pandas as pd\n",
    "import sys\n",
    "import math\n",
    "import cvxopt\n",
    "from scipy.linalg import fractional_matrix_power, block_diag\n",
    "from pylab import *\n",
    "from cvxpy import *\n",
    "import argparse\n",
    "import implicit\n",
    "from scipy.sparse import csr_matrix\n",
    "import copy"
   ]
  },
  {
   "cell_type": "markdown",
   "metadata": {},
   "source": [
    "Make test data:"
   ]
  },
  {
   "cell_type": "code",
   "execution_count": 2,
   "metadata": {},
   "outputs": [
    {
     "data": {
      "text/plain": [
       "(24, 40)"
      ]
     },
     "execution_count": 2,
     "metadata": {},
     "output_type": "execute_result"
    }
   ],
   "source": [
    "#build S with blocks on diagonal\n",
    "\n",
    "#make 3 blocks of diff sized matrices of 1s\n",
    "bl1 = np.ones((6, 3))\n",
    "bl2 = np.ones((8, 8))\n",
    "bl3 = np.ones((10, 4))\n",
    "\n",
    "S_real = block_diag(bl1, bl2, bl3)\n",
    "m = S_real.shape[0] #number genes\n",
    "n = S_real.shape[1] #number tfs\n",
    "\n",
    "l = 40 #number exp samples\n",
    "\n",
    "#build A dim n x l (tf x expsamples)\n",
    "A_real = np.random.rand(n, l)\n",
    "\n",
    "#build E dim m x l\n",
    "E_real = S_real.dot(A_real)\n",
    "E_real.shape"
   ]
  },
  {
   "cell_type": "code",
   "execution_count": 3,
   "metadata": {},
   "outputs": [],
   "source": [
    "#build weight matrix C dim m x n from S\n",
    "C_real = np.random.rand(m, n) * S_real"
   ]
  },
  {
   "cell_type": "code",
   "execution_count": 4,
   "metadata": {},
   "outputs": [],
   "source": [
    "#build test C -- add noise?\n",
    "#make 10% from each of the blocks 0.  \n",
    "blocks = [bl1, bl2, bl3]\n",
    "\n",
    "for block in blocks: \n",
    "    pct = round(block.size * .10)\n",
    "    for i in range(pct):\n",
    "        block[1][i] = 0\n",
    "    np.random.permutation(block)\n",
    "    \n",
    "dropped_ten_pct = block_diag(bl1, bl2, bl3)\n",
    "\n",
    "#build C with 10% of vals in each block dropped\n",
    "C_test = dropped_ten_pct * C_real"
   ]
  },
  {
   "cell_type": "code",
   "execution_count": 5,
   "metadata": {},
   "outputs": [],
   "source": [
    "#build parameter matrix lambda_ dim m x n \n",
    "lmda_real = np.ones((m, n))\n",
    "\n",
    "#set theta and alpha to 1"
   ]
  },
  {
   "cell_type": "code",
   "execution_count": 6,
   "metadata": {},
   "outputs": [
    {
     "data": {
      "image/png": "[encoded data removed]",
      "text/plain": [
       "<Figure size 576x216 with 2 Axes>"
      ]
     },
     "metadata": {},
     "output_type": "display_data"
    }
   ],
   "source": [
    "import matplotlib.pyplot as plt\n",
    "\n",
    "plt.figure(1, figsize=(8, 3))\n",
    "ax1 = plt.subplot(211)\n",
    "ax1.imshow(S_real)\n",
    "ax2 = plt.subplot(212)\n",
    "ax2.imshow(C_test)\n",
    "plt.show()"
   ]
  },
  {
   "cell_type": "markdown",
   "metadata": {},
   "source": [
    "Use test data with netrex class code:"
   ]
  },
  {
   "cell_type": "code",
   "execution_count": 7,
   "metadata": {},
   "outputs": [
    {
     "name": "stdout",
     "output_type": "stream",
     "text": [
      "Ready\n"
     ]
    }
   ],
   "source": [
    "class NetREX: \n",
    "    #init\n",
    "    def __init__(self, E, C, lambda_, theta=1, alpha=1, iternum = 1000, p = 20):\n",
    "        #parameters\n",
    "        self.theta = theta # scalar > 0\n",
    "        self.alpha = alpha\n",
    "        self.xbound = 1.0\n",
    "        self.ybound = 1.0\n",
    "        self.iternum = iternum\n",
    "        self.lambda_ = lambda_ #parameter matrix\n",
    "        #read in exp, read prior data \n",
    "        #self.ReadExp(ExpFile) #get ExpMat from this\n",
    "        self.ExpMat = E #expression for now\n",
    "        self.C = C #matrix of confidences (weights)\n",
    "        self.NumGene = E.shape[0]\n",
    "        self.NumTF = C.shape[1]\n",
    "        self.NumExp = E.shape[1]\n",
    "        #parameter matrix eta\n",
    "        self.eta = self.C + theta\n",
    "        self.i_ = range(self.NumGene) #range of i\n",
    "        self.j_ = range(self.NumTF) #range of j \n",
    "        #set initial S to C\n",
    "        self.S = copy.deepcopy(C)\n",
    "        #controls amount of factors in xi/yj\n",
    "        self.p = p\n",
    "        \n",
    "    #Put read in exp here later\n",
    "    \n",
    "    #initialization\n",
    "    def initialization(self):\n",
    "        #Use implicit package for CF problems to initialize X & Y: \n",
    "        implicit_model = implicit.als.AlternatingLeastSquares(factors=self.p)\n",
    "        #train model on weight matrix C\n",
    "        implicit_model.fit(csr_matrix(self.C))\n",
    "        #initial X (matrix of xi vectors)\n",
    "        self.X = implicit_model.item_factors.T\n",
    "        #initial Y (matrix of yj vectors)\n",
    "        self.Y = implicit_model.user_factors.T\n",
    "        \n",
    "        plt.figure(1, figsize=(8, 3))\n",
    "        ax1 = plt.subplot(211)\n",
    "        ax1.imshow(self.X.T.dot(self.Y))\n",
    "        plt.show()\n",
    "        \n",
    "        #binarize S to use for finding A \n",
    "        S_init = (self.S > 0 ).astype(int)\n",
    "        #initialize A using NetREX 1 closed form\n",
    "        Abound = 1.0\n",
    "        Atmp = np.linalg.inv(S_init.T.dot(S_init)+np.eye(self.NumTF)).dot(S_init.T).dot(self.ExpMat)\n",
    "        self.A = np.multiply((np.absolute(Atmp)<=Abound), Atmp) + \\\n",
    "                                        np.multiply((np.absolute(Atmp)>Abound), np.sign(Atmp)*Abound)\n",
    "        #initial Uk\n",
    "        mu_S = np.linalg.norm(self.A.dot(self.A.T), 'fro')\n",
    "        Uk = self.S - (2./mu_S)*(self.S.dot(self.A).dot(self.A.T) - self.ExpMat.dot(self.A.T))\n",
    "        #initial S \n",
    "        c = np.sqrt((2./mu_S)*(self.alpha*self.lambda_*np.square(np.ones([self.NumGene,self.NumTF]) -\n",
    "                                                          self.X.T.dot(self.Y)) + self.eta))  \n",
    "        Sequal = np.where(np.absolute(Uk) == c, c*np.random.randint(2, size=(self.NumGene,self.NumTF)), 0)\n",
    "        Sgreater = np.where(np.absolute(Uk) > c, Uk, 0)\n",
    "        self.S = Sequal + Sgreater\n",
    "        \n",
    "        plt.figure(1, figsize=(8, 3))\n",
    "        ax1 = plt.subplot(211)\n",
    "        ax1.imshow(self.S)\n",
    "        plt.show()\n",
    "        \n",
    "    #Define the objective function \n",
    "    def ObjFunction(self):\n",
    "        S_0 = (self.S != 0).astype(int) \n",
    "        self.a_ = self.lambda_*(self.C + self.alpha*S_0)\n",
    "        W = np.sqrt(self.a_) \n",
    "        Val = np.linalg.norm(self.ExpMat - self.S.dot(self.A), 'fro')**2 +np.linalg.norm(W*(S_0 - self.X.T.dot(self.Y)),\n",
    "                    'fro')**2 + np.linalg.norm(np.sqrt(self.eta*S_0), 'fro')**2\n",
    "        return Val\n",
    "    \n",
    "    def PALM_A(self):\n",
    "        mu_A = np.linalg.norm(self.S.T.dot(self.S), 'fro')\n",
    "        #solution for A\n",
    "        self.A = (np.linalg.inv((2./mu_A)*self.S.T.dot(self.S)+ np.identity(self.NumTF))).dot(((2./mu_A) * \n",
    "                                                                self.ExpMat.T.dot(self.S) + self.A.T).T) \n",
    "        \n",
    "    def PALM_S(self):\n",
    "        mu_S = np.linalg.norm(self.A.dot(self.A.T), 'fro')\n",
    "        Uk = self.S - (2./mu_S)*(self.S.dot(self.A).dot(self.A.T) - self.ExpMat.dot(self.A.T))\n",
    "        c = np.sqrt((2./mu_S)*(self.alpha*self.lambda_*np.square(np.ones([self.NumGene,self.NumTF]) -\n",
    "                                                          self.X.T.dot(self.Y)) + self.eta))\n",
    "        #solution for S   \n",
    "        Sequal = np.where(np.absolute(Uk) == c, c*np.random.randint(2, size=(self.NumGene,self.NumTF)), 0)\n",
    "        Sgreater = np.where(np.absolute(Uk) > c, Uk, 0)\n",
    "        self.S = Sequal + Sgreater\n",
    "    \n",
    "    def solve_qcqp(self, phi, varphi): \n",
    "        '''\n",
    "        Use cvxpy to solve the problem: \n",
    "        min x^T*phi*x + varphi*x\n",
    "        s.t. to norm(x) <= 1\n",
    "        (problem is the same for y)\n",
    "        '''\n",
    "         \n",
    "        x = Variable(self.p)\n",
    "        P = phi.astype(np.double) #this is phi modified for cvxpy\n",
    "        q = varphi.astype(np.double) #unsure abt transpose? varphi modified for cvxpy\n",
    "\n",
    "        objective = Minimize(quad_form(x,P) + q.T*x)\n",
    "        constraints = [square(norm(x)) <= 1]\n",
    "        \n",
    "        prob = Problem(objective, constraints)\n",
    "        try:\n",
    "            result = prob.solve()\n",
    "            return x.value\n",
    "        except:\n",
    "            prob.solve(verbose=True)\n",
    "           \n",
    "    def PALM_x(self):\n",
    "        #define variables for matrix formulation\n",
    "        for i in self.i_: \n",
    "            x = self.X[:,i]\n",
    "            A_i = np.diag([self.a_[i,j] for j in self.j_])\n",
    "            S_i = np.array([self.S[i,j] for j in self.j_]) \n",
    "            mu_x = np.linalg.norm(2*self.Y.dot(A_i).dot(self.Y.T), 'fro')                            \n",
    "            phi = (mu_x/2)*np.identity(self.p) + self.Y.dot(A_i).dot(self.Y.T)\n",
    "            varphi = 2*S_i.dot(A_i).dot(self.Y.T) + mu_x*x.T\n",
    "            x = self.solve_qcqp(phi, varphi)\n",
    "            self.X[:,i] = x\n",
    "    \n",
    "    def PALM_y(self):\n",
    "        #matrix formulation\n",
    "        for j in self.j_:\n",
    "            y = self.Y[:,j]\n",
    "            A_j = np.diag([self.a_[i,j] for i in self.i_])\n",
    "            S_j = np.array([self.S[i,j] for i in self.i_])\n",
    "            mu_y = np.linalg.norm(2*self.X.dot(A_j).dot(self.X.T), 'fro')\n",
    "            phi = (mu_y/2)*np.identity(self.p) + self.X.dot(A_j).dot(self.X.T)\n",
    "            varphi = 2*S_j.T.dot(A_j).dot(self.X.T) + mu_y*y.T\n",
    "            y = self.solve_qcqp(phi, varphi)\n",
    "            self.Y[:,j] = y\n",
    "            \n",
    "    #algorithm\n",
    "    def NetREX_algorithm(self):\n",
    "        self.initialization()\n",
    "        conv_point = 0.1 #for now?  \n",
    "\n",
    "        Valold = self.ObjFunction()\n",
    "        for k in range(self.iternum): \n",
    "            self.PALM_A()\n",
    "            for i in self.i_:\n",
    "                self.PALM_S()\n",
    "            self.PALM_x()\n",
    "            self.PALM_y()\n",
    "            Valnew = self.ObjFunction()\n",
    "            check_pt = np.abs(Valold-Valnew)\n",
    "            if (check_pt < conv_point) :\n",
    "                print(\"Converge!\")\n",
    "                sys.stdout.flush()\n",
    "                break\n",
    "            Valold = Valnew\n",
    "        return Valold\n",
    "        \n",
    "def main():\n",
    "        #parser = argparse.ArgumentParser(description='netREX: network rewiring using expression')\n",
    "        #define arguments\n",
    "        #requiredArgs = parser.add_argument_group('required arguments')\n",
    "        #requiredArgs.add_argument('-e', type=str, nargs=1, dest='expfile', required=True, metavar=\"expression_file\",\n",
    "        #                     default=None, help=\"<Required> Name of the expression file\")\n",
    "        #requiredArgs.add_argument('-c', type=str, nargs=1, dest='confidences', required=True, \n",
    "        #                metavar=\"confidence_matrix\", default=None, help='<Required> File w matrix of confidences')\n",
    "        #parser.add_argument()\n",
    "    \n",
    "        #parse arguments from std input\n",
    "        #args=parser.parse_args()\n",
    "    \n",
    "        #if len(sys.argv)==1:\n",
    "        #    parser.print_help(sys.stderr)\n",
    "        #    sys.exit(1)\n",
    "    \n",
    "        #if args.expfile == None:\n",
    "        #    sys.exit('missing expression data file!')\n",
    "        \n",
    "        #if args.confidences == None:\n",
    "        #    sys.exit('missing confidence file!')\n",
    "    \n",
    "        #run netrex\n",
    "        #tmp = NetREX(E_real, C_test, lmda_real)\n",
    "        #tmp.NetREX_algorithm()\n",
    "        print(\"Ready\")\n",
    "\n",
    "if __name__ == '__main__':\n",
    "    main()"
   ]
  },
  {
   "cell_type": "code",
   "execution_count": 8,
   "metadata": {},
   "outputs": [
    {
     "name": "stderr",
     "output_type": "stream",
     "text": [
      "WARNING:root:OpenBLAS detected. Its highly recommend to set the environment variable 'export OPENBLAS_NUM_THREADS=1' to disable its internal multithreading\n",
      "100%|██████████| 15.0/15 [00:00<00:00, 135.77it/s]\n"
     ]
    },
    {
     "data": {
      "image/png": "[encoded data removed]",
      "text/plain": [
       "<Figure size 576x216 with 1 Axes>"
      ]
     },
     "metadata": {},
     "output_type": "display_data"
    },
    {
     "data": {
      "image/png": "[encoded data removed]",
      "text/plain": [
       "<Figure size 576x216 with 1 Axes>"
      ]
     },
     "metadata": {},
     "output_type": "display_data"
    },
    {
     "name": "stdout",
     "output_type": "stream",
     "text": [
      "Converge!\n"
     ]
    },
    {
     "data": {
      "text/plain": [
       "560.1041411385088"
      ]
     },
     "execution_count": 8,
     "metadata": {},
     "output_type": "execute_result"
    }
   ],
   "source": [
    "tmp = NetREX(E_real, C_test, lmda_real)\n",
    "tmp.NetREX_algorithm()"
   ]
  },
  {
   "cell_type": "code",
   "execution_count": 9,
   "metadata": {},
   "outputs": [
    {
     "data": {
      "image/png": "[encoded data removed]",
      "text/plain": [
       "<Figure size 576x216 with 1 Axes>"
      ]
     },
     "metadata": {},
     "output_type": "display_data"
    }
   ],
   "source": [
    "S_test = tmp.S\n",
    "A_test = tmp.A\n",
    "\n",
    "plt.figure(1, figsize=(8, 3))\n",
    "ax1 = plt.subplot(211)\n",
    "ax1.imshow(tmp.S)\n",
    "plt.show()"
   ]
  },
  {
   "cell_type": "code",
   "execution_count": null,
   "metadata": {},
   "outputs": [],
   "source": []
  },
  {
   "cell_type": "code",
   "execution_count": null,
   "metadata": {},
   "outputs": [],
   "source": []
  }
 ],
 "metadata": {
  "kernelspec": {
   "display_name": "Python 3",
   "language": "python",
   "name": "python3"
  },
  "language_info": {
   "codemirror_mode": {
    "name": "ipython",
    "version": 3
   },
   "file_extension": ".py",
   "mimetype": "text/x-python",
   "name": "python",
   "nbconvert_exporter": "python",
   "pygments_lexer": "ipython3",
   "version": "3.6.6"
  }
 },
 "nbformat": 4,
 "nbformat_minor": 2
}
